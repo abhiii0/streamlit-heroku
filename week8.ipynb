{
  "nbformat": 4,
  "nbformat_minor": 0,
  "metadata": {
    "colab": {
      "name": "week8.ipynb",
      "provenance": [],
      "collapsed_sections": [],
      "authorship_tag": "ABX9TyNR2rWL+srqRHRlO1D9J74J",
      "include_colab_link": true
    },
    "kernelspec": {
      "name": "python3",
      "display_name": "Python 3"
    },
    "language_info": {
      "name": "python"
    }
  },
  "cells": [
    {
      "cell_type": "markdown",
      "metadata": {
        "id": "view-in-github",
        "colab_type": "text"
      },
      "source": [
        "<a href=\"https://colab.research.google.com/github/abhiii0/week8/blob/main/week8.ipynb\" target=\"_parent\"><img src=\"https://colab.research.google.com/assets/colab-badge.svg\" alt=\"Open In Colab\"/></a>"
      ]
    },
    {
      "cell_type": "code",
      "execution_count": 1,
      "metadata": {
        "id": "kCePz1c60Oic"
      },
      "outputs": [],
      "source": [
        "import numpy as np\n",
        "from scipy import stats\n",
        "def EuclideanDistance(x1, x2):\n",
        "    return np.sum((x1 - x2) ** 2, axis=1)\n",
        "    \n",
        "def knn(class1, class2, newExample):\n",
        "    X = np.row_stack((class1, class2))\n",
        "    y = np.array([1,1,1,1,1,2,2,2,2,2])\n",
        "    distance_vector = EuclideanDistance(X, newExample.reshape(1,2))\n",
        "    k_nearest_neighbors_indices = np.argpartition(distance_vector, 3)[:3]\n",
        "    k_nearest_neighbors = y[k_nearest_neighbors_indices]\n",
        "    cluster = stats.mode(k_nearest_neighbors)[0]\n",
        "    return cluster"
      ]
    }
  ]
}